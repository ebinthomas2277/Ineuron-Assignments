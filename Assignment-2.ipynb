{
 "cells": [
  {
   "cell_type": "markdown",
   "id": "73658ec2",
   "metadata": {},
   "source": [
    "1. Write a program which accepts a sequence of comma-separated numbers from console  and generate a list. "
   ]
  },
  {
   "cell_type": "code",
   "execution_count": 18,
   "id": "8c01b813",
   "metadata": {},
   "outputs": [
    {
     "name": "stdout",
     "output_type": "stream",
     "text": [
      "Enter the sentence: Hello,this,is,ebin\n",
      "['Hello', 'this', 'is', 'ebin']\n"
     ]
    }
   ],
   "source": [
    "userInput=input(\"Enter the sentence: \")\n",
    "print(userInput.split(\",\"))"
   ]
  },
  {
   "cell_type": "markdown",
   "id": "54c63e5c",
   "metadata": {},
   "source": [
    "2. Create the below pattern using nested for loop in Python. \n",
    "* \n",
    "* * \n",
    "* * * \n",
    "* * * * \n",
    "* * * * * \n",
    "* * * * \n",
    "* * * \n",
    "* * \n",
    "* "
   ]
  },
  {
   "cell_type": "code",
   "execution_count": 15,
   "id": "74efb212",
   "metadata": {},
   "outputs": [
    {
     "name": "stdout",
     "output_type": "stream",
     "text": [
      "*\n",
      "**\n",
      "***\n",
      "****\n",
      "*****\n",
      "****\n",
      "***\n",
      "**\n",
      "*\n"
     ]
    }
   ],
   "source": [
    "count=2\n",
    "for i in range(1,10):\n",
    "    if(i<=5):\n",
    "        print(\"*\" * (i))\n",
    "    if(i>5):\n",
    "        print(\"*\" * (i-count))\n",
    "        count=count+2"
   ]
  },
  {
   "cell_type": "markdown",
   "id": "2fa59c9f",
   "metadata": {},
   "source": [
    "3. Write a Python program to reverse a word after accepting the input from the user. "
   ]
  },
  {
   "cell_type": "code",
   "execution_count": 17,
   "id": "1b6a4977",
   "metadata": {},
   "outputs": [
    {
     "name": "stdout",
     "output_type": "stream",
     "text": [
      "Input Word: Ineuron\n",
      "Output: noruenI\n"
     ]
    }
   ],
   "source": [
    "userInput=input(\"Input Word: \")\n",
    "print(\"Output: {}\".format(userInput[::-1]))"
   ]
  }
 ],
 "metadata": {
  "kernelspec": {
   "display_name": "Python 3 (ipykernel)",
   "language": "python",
   "name": "python3"
  },
  "language_info": {
   "codemirror_mode": {
    "name": "ipython",
    "version": 3
   },
   "file_extension": ".py",
   "mimetype": "text/x-python",
   "name": "python",
   "nbconvert_exporter": "python",
   "pygments_lexer": "ipython3",
   "version": "3.10.9"
  }
 },
 "nbformat": 4,
 "nbformat_minor": 5
}
