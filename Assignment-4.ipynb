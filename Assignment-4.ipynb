{
 "cells": [
  {
   "cell_type": "code",
   "execution_count": 6,
   "id": "4efdd9e1",
   "metadata": {},
   "outputs": [
    {
     "name": "stdout",
     "output_type": "stream",
     "text": [
      "43.30127018922193\n"
     ]
    }
   ],
   "source": [
    "# 1. Write a Python Program(with class concepts) to find the area of the triangle using the below  formula. \n",
    "# area = (s*(s-a)*(s-b)*(s-c)) ** 0.5 \n",
    "# Function to take the length of the sides of triangle from user should be defined in the parent  class and \n",
    "# function to calculate the area should be defined in subclass. \n",
    "\n",
    "class Triangle:\n",
    "    \n",
    "    def __init__(self,side_a,side_b,side_c):\n",
    "        self.side_a=side_a\n",
    "        self.side_b=side_b\n",
    "        self.side_c=side_c\n",
    "        \n",
    "class Area(Triangle):\n",
    "    \n",
    "    def calculate_area(self):\n",
    "        s=(self.side_a+self.side_b+self.side_c)/2\n",
    "        return (s*(s-self.side_a)*(s-self.side_b)*(s-self.side_c)) ** 0.5 \n",
    "    \n",
    "shape1=Area(10,10,10)\n",
    "print(shape1.calculate_area())"
   ]
  },
  {
   "cell_type": "code",
   "execution_count": 17,
   "id": "be38878b",
   "metadata": {},
   "outputs": [
    {
     "name": "stdout",
     "output_type": "stream",
     "text": [
      "The character m is not a vowel\n"
     ]
    }
   ],
   "source": [
    "# 2. Write a Python function which takes a character (i.e. a string of length 1) and returns True\n",
    "# if  it is a vowel, False otherwise. \n",
    "\n",
    "class Vowel:\n",
    "    \n",
    "    def __init__(self,character):\n",
    "        self.character=character\n",
    "        \n",
    "    def check_vowel(self):\n",
    "        if(type(self.character)==str):\n",
    "            if(self.character in \"AEIOUaeiou\"):\n",
    "                return \"The character {} is a vowel\".format(self.character)\n",
    "            else:\n",
    "                return \"The character {} is not a vowel\".format(self.character)\n",
    "        else:\n",
    "            print(\"Invalid Item\")\n",
    "            \n",
    "    def __str__(self):\n",
    "        return \"The character is {}\".format(self.character)\n",
    "        \n",
    "obj1=Vowel(\"m\")\n",
    "print(obj1.check_vowel())"
   ]
  },
  {
   "cell_type": "code",
   "execution_count": 44,
   "id": "59438b96",
   "metadata": {},
   "outputs": [
    {
     "name": "stdout",
     "output_type": "stream",
     "text": [
      "['Artifiical', 'Intelligence']\n"
     ]
    }
   ],
   "source": [
    "# 3. Write a function filter_long_words() that takes a list of words and an integer n and returns\n",
    "# the list of words that are longer than n\n",
    "\n",
    "class Filter:\n",
    "    \n",
    "    def __init__(self,sentance):\n",
    "        if(type(sentance)==str):\n",
    "            self.sentance=sentance\n",
    "        else:\n",
    "            self.sentance=\"\"\n",
    "            print(\"Invalid Item Assignment\")\n",
    "        \n",
    "        \n",
    "    def filter_long_words(self,number):\n",
    "        self.number=number\n",
    "        result=[]\n",
    "        words=self.sentance.split(\" \")\n",
    "        for i in words:\n",
    "            if(len(i) > self.number):\n",
    "                result.append(i)\n",
    "        return result\n",
    "    \n",
    "obj1=Filter(\"Machine Learning And Artifiical Intelligence\")\n",
    "print(obj1.filter_long_words(9))    "
   ]
  },
  {
   "cell_type": "code",
   "execution_count": 48,
   "id": "a436644f",
   "metadata": {},
   "outputs": [
    {
     "name": "stdout",
     "output_type": "stream",
     "text": [
      "Enter the phrase: Machine Learning And Artifiical Intelligence\n",
      "[7, 8, 3, 10, 12]\n"
     ]
    }
   ],
   "source": [
    "# 4 Write a Python program using function concept that maps list of words into a list of integers \n",
    "# representing the lengths of the corresponding words.\n",
    "\n",
    "user_input=input(\"Enter the phrase: \")\n",
    "user_input=user_input.split(\" \")\n",
    "word_length=[]\n",
    "\n",
    "for i in user_input:\n",
    "    word_length.append(len(i))\n",
    "    \n",
    "print(word_length)"
   ]
  },
  {
   "cell_type": "code",
   "execution_count": null,
   "id": "de0dc7e3",
   "metadata": {},
   "outputs": [],
   "source": []
  }
 ],
 "metadata": {
  "kernelspec": {
   "display_name": "Python 3 (ipykernel)",
   "language": "python",
   "name": "python3"
  },
  "language_info": {
   "codemirror_mode": {
    "name": "ipython",
    "version": 3
   },
   "file_extension": ".py",
   "mimetype": "text/x-python",
   "name": "python",
   "nbconvert_exporter": "python",
   "pygments_lexer": "ipython3",
   "version": "3.10.9"
  }
 },
 "nbformat": 4,
 "nbformat_minor": 5
}
