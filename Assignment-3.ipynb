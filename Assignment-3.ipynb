{
 "cells": [
  {
   "cell_type": "code",
   "execution_count": 2,
   "id": "2b0c4b9e",
   "metadata": {},
   "outputs": [
    {
     "name": "stdout",
     "output_type": "stream",
     "text": [
      "999.9\n"
     ]
    }
   ],
   "source": [
    "#1. Write a Python Program to implement your own myreduce() function which works exactly  like Python's built-in function reduce() \n",
    "\n",
    "def my_reduce(function, iterable):\n",
    "    length = len(iterable)\n",
    "    result = function(iterable[0], iterable[1])\n",
    "    for i in range(2,length):\n",
    "        result = function(result, iterable[i])\n",
    "    return result\n",
    "\n",
    "func=lambda x,y:x if x>y else y\n",
    "print(my_reduce(func,[100,12,88,999.9]))\n"
   ]
  },
  {
   "cell_type": "code",
   "execution_count": 4,
   "id": "0aa4cfaf",
   "metadata": {},
   "outputs": [
    {
     "name": "stdout",
     "output_type": "stream",
     "text": [
      "[12, 40, 98, 246]\n"
     ]
    }
   ],
   "source": [
    "# 2. Write a Python program to implement your own myfilter() function which works exactly like Python's built-in function filter()\n",
    "\n",
    "def my_filter(function,iterable):\n",
    "    result=[]\n",
    "    for i in iterable:\n",
    "        if(function(i)==True):\n",
    "            result.append(i)\n",
    "    return result\n",
    "\n",
    "print(my_filter(lambda x:1 if(x%2==0) else 0,[12,37,55,40,98,246,99.98]))"
   ]
  },
  {
   "cell_type": "code",
   "execution_count": 7,
   "id": "7d367d23",
   "metadata": {},
   "outputs": [
    {
     "name": "stdout",
     "output_type": "stream",
     "text": [
      "['x', 'xx', 'xxx', 'xxxx', 'y', 'yy', 'yyy', 'yyyy', 'z', 'zz', 'zzz', 'zzzz']\n",
      "\n",
      "[(1, 1), (2, 1), (3, 1), (1, 2), (2, 2), (3, 2), (1, 3), (2, 3), (3, 3)]\n",
      "\n",
      "['x', 'y', 'z', 'xx', 'yy', 'zz', 'xxx', 'yyy', 'zzz', 'xxxx', 'yyyy', 'zzzz']\n"
     ]
    }
   ],
   "source": [
    "# 3. Implement List comprehensions to produce the following lists.   \n",
    "\n",
    "# ['x', 'xx', 'xxx', 'xxxx', 'y', 'yy', 'yyy', 'yyyy', 'z', 'zz', 'zzz', 'zzzz']\n",
    "\n",
    "# ['x', 'y', 'z', 'xx', 'yy', 'zz', 'xxx', 'yyy', 'zzz', 'xxxx', 'yyyy', 'zzzz']  \n",
    "\n",
    "# [[2], [3], [4], [3], [4], [5], [4], [5], [6]] [[2, 3, 4, 5], [3, 4, 5, 6],  \n",
    "\n",
    "# [4, 5, 6, 7], [5, 6, 7, 8]] \n",
    "\n",
    "\n",
    "print([i*j for i in ['x','y','z'] for j in range(1,5) ])\n",
    "print()\n",
    "print([tuple([j,i]) for i in range(1,4) for j in range(1,4)])\n",
    "print()\n",
    "print([i*j for j in range(1,5) for i in ['x','y','z']])"
   ]
  },
  {
   "cell_type": "code",
   "execution_count": null,
   "id": "eb921bb9",
   "metadata": {},
   "outputs": [],
   "source": []
  }
 ],
 "metadata": {
  "kernelspec": {
   "display_name": "Python 3 (ipykernel)",
   "language": "python",
   "name": "python3"
  },
  "language_info": {
   "codemirror_mode": {
    "name": "ipython",
    "version": 3
   },
   "file_extension": ".py",
   "mimetype": "text/x-python",
   "name": "python",
   "nbconvert_exporter": "python",
   "pygments_lexer": "ipython3",
   "version": "3.10.9"
  }
 },
 "nbformat": 4,
 "nbformat_minor": 5
}
